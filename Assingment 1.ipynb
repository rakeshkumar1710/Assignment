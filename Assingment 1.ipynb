{
 "cells": [
  {
   "cell_type": "code",
   "execution_count": null,
   "id": "728a357b-4665-4f2f-bdad-43f8352b33c3",
   "metadata": {},
   "outputs": [],
   "source": [
    "ANS-1 Guido van Rossum"
   ]
  },
  {
   "cell_type": "code",
   "execution_count": null,
   "id": "0e8723fe-245f-4c4e-b688-d3c71c6e16a0",
   "metadata": {},
   "outputs": [],
   "source": [
    "ANs-2  python is an interpreted progaming language ,supporting Object-oriented ,structure ,and functional  programming ."
   ]
  },
  {
   "cell_type": "code",
   "execution_count": null,
   "id": "97409a2c-4989-47ec-88c5-cf89cada8b9e",
   "metadata": {},
   "outputs": [],
   "source": [
    "Ans-3  yes python is a case sensitive language."
   ]
  },
  {
   "cell_type": "code",
   "execution_count": null,
   "id": "f42bd7ce-c39d-400c-96ea-7a8f20b83028",
   "metadata": {},
   "outputs": [],
   "source": [
    "Ans-4  py,pyi"
   ]
  },
  {
   "cell_type": "code",
   "execution_count": null,
   "id": "1cc9cf0a-37c2-4eab-93f9-e26bd678865b",
   "metadata": {},
   "outputs": [],
   "source": [
    "Ans-5 interpreted"
   ]
  },
  {
   "cell_type": "code",
   "execution_count": null,
   "id": "8d60c7f2-7a61-453e-ba15-e8e4855a29ce",
   "metadata": {},
   "outputs": [],
   "source": [
    "Ans-6 python program is constructed from code blocks.the following are blocks a module,a function body,,and a class  defination."
   ]
  },
  {
   "cell_type": "code",
   "execution_count": null,
   "id": "ddce3f31-7580-4922-a2c2-6efbf5750edb",
   "metadata": {},
   "outputs": [],
   "source": [
    "ANS -7  Hash charactor (#)"
   ]
  },
  {
   "cell_type": "code",
   "execution_count": null,
   "id": "08b99bf8-ba90-49f8-aeb0-598be197ba36",
   "metadata": {},
   "outputs": [],
   "source": [
    "Ans-8 The function sys. version can help us to find the version of python that we are currently working on."
   ]
  },
  {
   "cell_type": "code",
   "execution_count": null,
   "id": "0d307e42-142c-431a-8594-9795cf633c2c",
   "metadata": {},
   "outputs": [],
   "source": [
    "Ans-9 python support to make anonymous function which are not bound to a name (@runtime).it is uses a construct called 'lambda'."
   ]
  },
  {
   "cell_type": "code",
   "execution_count": null,
   "id": "7aa8b469-8219-40c9-b5b9-d2c70b2688f1",
   "metadata": {},
   "outputs": [],
   "source": [
    "Ans-10 preferred installer program."
   ]
  },
  {
   "cell_type": "code",
   "execution_count": null,
   "id": "78143e50-ddb7-452a-b18e-7e241e0f1367",
   "metadata": {},
   "outputs": [],
   "source": [
    "Ans-11 python built-in fuction\n",
    "    1.print() fuction\n",
    "    2.type() fuction\n",
    "    3.input () fuction\n",
    "    4. abs() fuction\n",
    "    5.pow() fuction\n",
    "    6.dir() fuction \n",
    "    "
   ]
  },
  {
   "cell_type": "code",
   "execution_count": null,
   "id": "14c437cf-3494-44ab-83bc-cc14bc8728d0",
   "metadata": {},
   "outputs": [],
   "source": [
    "Ans-12 an identifier can have a maximum length of 79 characters in python."
   ]
  },
  {
   "cell_type": "code",
   "execution_count": null,
   "id": "6e6ff7cf-35e6-4806-89bb-93792ae7baea",
   "metadata": {},
   "outputs": [],
   "source": [
    "Ans-13  Advantages of python \n",
    "    1. free and open -source\n",
    "    2.productivity has increased \n",
    "    3.interpreted langauge \n",
    "    4.extensive library\n",
    "    5.dynamically typed\n",
    "    6.portability"
   ]
  },
  {
   "cell_type": "code",
   "execution_count": null,
   "id": "4daba02b-d55e-454b-a4f8-56c9d7ee5369",
   "metadata": {},
   "outputs": [],
   "source": [
    "Ans-14  memory management in python involves a private heap containing all python objects and data structures."
   ]
  },
  {
   "cell_type": "code",
   "execution_count": null,
   "id": "7925c877-4825-4de3-ae2c-9b39dda9bd4f",
   "metadata": {},
   "outputs": [],
   "source": [
    "Ans-15 indentation refers to the spaces at the beginning of a code line . python uses indentation to indicate a block ogf o"
   ]
  }
 ],
 "metadata": {
  "kernelspec": {
   "display_name": "Python 3 (ipykernel)",
   "language": "python",
   "name": "python3"
  },
  "language_info": {
   "codemirror_mode": {
    "name": "ipython",
    "version": 3
   },
   "file_extension": ".py",
   "mimetype": "text/x-python",
   "name": "python",
   "nbconvert_exporter": "python",
   "pygments_lexer": "ipython3",
   "version": "3.10.8"
  }
 },
 "nbformat": 4,
 "nbformat_minor": 5
}
