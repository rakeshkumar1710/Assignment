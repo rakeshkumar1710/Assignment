{
 "cells": [
  {
   "cell_type": "code",
   "execution_count": 1,
   "id": "51f2f0d0-df3d-4b45-9c6c-0a39365c7960",
   "metadata": {},
   "outputs": [],
   "source": [
    "#write a program to accept percentages  from the user end display the grade according to the following criteria."
   ]
  },
  {
   "cell_type": "code",
   "execution_count": 15,
   "id": "ddf2f115-4140-422c-87bd-63800a0c761a",
   "metadata": {},
   "outputs": [
    {
     "name": "stdin",
     "output_type": "stream",
     "text": [
      "enter the marks 35\n"
     ]
    },
    {
     "name": "stdout",
     "output_type": "stream",
     "text": [
      "grade obtained is D\n"
     ]
    }
   ],
   "source": [
    "marks=int(input('enter the marks'))\n",
    "if marks > 90:\n",
    "    print('grade obtained is A')\n",
    "elif marks >80 and marks<=90:\n",
    "    print('grade obtained is B')\n",
    "elif marks >=60 and marks<=80:\n",
    "    print('grade obtained is C')\n",
    "else:\n",
    "    print('grade obtained is D')         "
   ]
  },
  {
   "cell_type": "code",
   "execution_count": 16,
   "id": "89e634d9-63a9-443e-9407-ac018daa38bb",
   "metadata": {},
   "outputs": [],
   "source": [
    "# display cost price display"
   ]
  },
  {
   "cell_type": "code",
   "execution_count": 28,
   "id": "60c91d8c-4e14-47e5-9705-f8220de49567",
   "metadata": {},
   "outputs": [],
   "source": [
    "tax = 0\n",
    "price =int(input('enter the bike price'))\n",
    "\n",
    "if  price >100000:\n",
    "        tax=15/100*price \n",
    "elif  price >50000 and price<=100000:\n",
    "        tax=10/100*price \n",
    "else:\n",
    "        tax=5/100*price\n",
    "print('tax to be paid ',tax)\n",
    "    "
   ]
  },
  {
   "cell_type": "code",
   "execution_count": 29,
   "id": "17397817-7c31-424f-9a4d-6b1a683a160e",
   "metadata": {},
   "outputs": [],
   "source": [
    "#accept any city fro the user and display monuments of the city"
   ]
  },
  {
   "cell_type": "code",
   "execution_count": 45,
   "id": "cbeb2ac2-daba-4629-b072-25ca56fb7d5d",
   "metadata": {},
   "outputs": [
    {
     "name": "stdin",
     "output_type": "stream",
     "text": [
      "enter city name indore\n"
     ]
    },
    {
     "name": "stdout",
     "output_type": "stream",
     "text": [
      " enter the valid city \n"
     ]
    }
   ],
   "source": [
    "\n",
    "city = input('enter city name')\n",
    "if city.upper()=='DELHI':\n",
    "    print(' monument is red fort')\n",
    "elif city.upper() == 'AGRA':\n",
    "    print(' monument is Taj mahal')\n",
    "elif city.upper() == 'JAIPUR':\n",
    "    print(' monument is Jal mahal')\n",
    "\n",
    "else:\n",
    "    print(' enter the valid city ')\n",
    "    "
   ]
  },
  {
   "cell_type": "code",
   "execution_count": 46,
   "id": "191880cb-036e-40c0-81b4-5bbc3d6555df",
   "metadata": {},
   "outputs": [],
   "source": [
    "#why and when to use while loop in python give a "
   ]
  },
  {
   "cell_type": "code",
   "execution_count": 51,
   "id": "1fc506fd-01b8-481e-8622-5d06ef35ff2c",
   "metadata": {},
   "outputs": [
    {
     "name": "stdout",
     "output_type": "stream",
     "text": [
      "1\n",
      "2\n",
      "3\n",
      "4\n",
      "5\n",
      "6\n",
      "7\n",
      "8\n",
      "9\n",
      "10\n"
     ]
    }
   ],
   "source": [
    "python while loop is used to run a block code until a certain condition is met.here \n",
    "A while loop evaluate the condition .if the condition evaluate to the true , the code \n",
    "inside the while loop is executed.\n",
    "#EXAMPLE \n",
    "i =1\n",
    "n =10\n",
    "while i <= n:\n",
    "    print(i)\n",
    "    i=i+1"
   ]
  },
  {
   "cell_type": "code",
   "execution_count": null,
   "id": "94c00b2d-5a81-48d7-a7da-9858c4c1ea4b",
   "metadata": {},
   "outputs": [],
   "source": [
    "l=[1,2,3,5,6,7,8,9]\n"
   ]
  },
  {
   "cell_type": "code",
   "execution_count": null,
   "id": "c62822a2-0e9a-40b6-a009-7e1f6b806c12",
   "metadata": {},
   "outputs": [],
   "source": [
    "l[::-1]"
   ]
  },
  {
   "cell_type": "code",
   "execution_count": null,
   "id": "91920fed-c2a3-4687-a3cf-4c28483df68b",
   "metadata": {},
   "outputs": [],
   "source": [
    "#reverse a while loop display number 10 to 1."
   ]
  },
  {
   "cell_type": "code",
   "execution_count": 5,
   "id": "a5cd010d-e7a9-4a59-bd03-04070a6ba9e5",
   "metadata": {},
   "outputs": [
    {
     "name": "stdout",
     "output_type": "stream",
     "text": [
      "10 9 8 7 6 5 4 3 2 1 "
     ]
    }
   ],
   "source": [
    "i=10\n",
    "while i>=1:\n",
    "    print(i,end =' ')\n",
    "    i-=1"
   ]
  },
  {
   "cell_type": "code",
   "execution_count": 6,
   "id": "fc1a7c06-f5fd-4b87-990c-36f52e75b504",
   "metadata": {},
   "outputs": [],
   "source": [
    "# nested pattern\n"
   ]
  },
  {
   "cell_type": "code",
   "execution_count": 10,
   "id": "31bf03f1-1b7d-4deb-b714-309517e6cfd4",
   "metadata": {},
   "outputs": [
    {
     "name": "stdout",
     "output_type": "stream",
     "text": [
      "* \n",
      "* * \n",
      "* * * \n",
      "* * * * \n",
      "* * * * * \n"
     ]
    }
   ],
   "source": [
    "for i in range (1,6):\n",
    "    for j in range(1,i+1):\n",
    "        print('*',end =' ')\n",
    "    print()"
   ]
  },
  {
   "cell_type": "code",
   "execution_count": 11,
   "id": "d9ea5551-6d62-4e83-a8ee-ae694debcb03",
   "metadata": {},
   "outputs": [],
   "source": [
    "#2"
   ]
  },
  {
   "cell_type": "code",
   "execution_count": 16,
   "id": "05466672-deee-47e1-9e4b-40efe7d5053f",
   "metadata": {},
   "outputs": [
    {
     "name": "stdout",
     "output_type": "stream",
     "text": [
      "# \n",
      "# # \n",
      "# # # \n",
      "# # # # \n",
      "# # # # # \n",
      "# # # # # # \n",
      "# # # # # # # \n",
      "# # # # # # # # \n",
      "# # # # # # # # # \n"
     ]
    }
   ],
   "source": [
    "for i in  range (1,10):\n",
    "    for j in range (1,i+1):\n",
    "        print('#',end=' ')\n",
    "    print()"
   ]
  },
  {
   "cell_type": "code",
   "execution_count": 1,
   "id": "e9db1dba-35e2-4dc5-b3e1-05cb58ac1c75",
   "metadata": {},
   "outputs": [
    {
     "name": "stdout",
     "output_type": "stream",
     "text": [
      "    *\n",
      "   **\n",
      "  ***\n",
      " ****\n",
      "*****\n"
     ]
    }
   ],
   "source": [
    "# pattern 2\n",
    "i = 5\n",
    "while i >= 1:\n",
    "    j = 1\n",
    "    while j <= 5:\n",
    "        if j < i:\n",
    "            print(\" \", end=\"\")\n",
    "        else:\n",
    "            print(\"*\", end=\"\")\n",
    "        j += 1\n",
    "    print(\"\")\n",
    "    i -= 1"
   ]
  },
  {
   "cell_type": "code",
   "execution_count": 2,
   "id": "549f750f-3cc6-4907-ad22-aecc11104ec0",
   "metadata": {},
   "outputs": [
    {
     "name": "stdout",
     "output_type": "stream",
     "text": [
      "*****\n",
      "****\n",
      "***\n",
      "**\n",
      "*\n"
     ]
    }
   ],
   "source": [
    "#pattern3\n",
    "i = 5\n",
    "while i >= 1:\n",
    "    j = 1\n",
    "    while j <= i:\n",
    "        print(\"*\", end=\"\")\n",
    "        j += 1\n",
    "    print(\"\")\n",
    "    i -= 1"
   ]
  },
  {
   "cell_type": "code",
   "execution_count": 4,
   "id": "954173b6-468b-441a-a269-aa150bfd4935",
   "metadata": {},
   "outputs": [
    {
     "name": "stdin",
     "output_type": "stream",
     "text": [
      "Enter Number 5\n"
     ]
    },
    {
     "name": "stdout",
     "output_type": "stream",
     "text": [
      "0\n"
     ]
    }
   ],
   "source": [
    "num = int(input(\"Enter Number\"))\n",
    "count = 0\n",
    "while num > 10:\n",
    "    num /= 3\n",
    "    count += 1\n",
    "print(count)"
   ]
  },
  {
   "cell_type": "code",
   "execution_count": null,
   "id": "0f290dd7-4058-49f7-b587-54d90d5ca7ec",
   "metadata": {},
   "outputs": [],
   "source": []
  }
 ],
 "metadata": {
  "kernelspec": {
   "display_name": "Python 3 (ipykernel)",
   "language": "python",
   "name": "python3"
  },
  "language_info": {
   "codemirror_mode": {
    "name": "ipython",
    "version": 3
   },
   "file_extension": ".py",
   "mimetype": "text/x-python",
   "name": "python",
   "nbconvert_exporter": "python",
   "pygments_lexer": "ipython3",
   "version": "3.10.8"
  }
 },
 "nbformat": 4,
 "nbformat_minor": 5
}
