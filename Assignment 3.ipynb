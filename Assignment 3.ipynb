{
 "cells": [
  {
   "cell_type": "code",
   "execution_count": 4,
   "id": "b556d10c-cc52-4666-a7d8-0a273dcbd677",
   "metadata": {},
   "outputs": [
    {
     "name": "stdout",
     "output_type": "stream",
     "text": [
      "1\n",
      "2\n",
      "3\n",
      "5\n",
      "6\n",
      "7\n",
      "8\n",
      "9\n"
     ]
    }
   ],
   "source": [
    "#QUESTION -1\n",
    "FOR LOOP- The for loop is used when we already know the number of iterations, which means when we know how many times a statement has to be executed \n",
    "l=[1,2,3,5,6,7,8,9]\n",
    "for i in l:\n",
    "    print(i)"
   ]
  },
  {
   "cell_type": "code",
   "execution_count": null,
   "id": "331f7197-8469-45c6-8af3-511c9674544b",
   "metadata": {},
   "outputs": [],
   "source": [
    "while loop - When we need to end the loop on a condition other than the number of times, we use a while loop."
   ]
  },
  {
   "cell_type": "code",
   "execution_count": null,
   "id": "3d7da0b6-3927-4711-aa6c-0acd5adbb424",
   "metadata": {},
   "outputs": [],
   "source": [
    "\n",
    "i= 0\n",
    "while i <= 5:\n",
    "    print(i)\n",
    "    i=i+1"
   ]
  },
  {
   "cell_type": "code",
   "execution_count": null,
   "id": "a42265b1-1ea3-48f9-b887-7adbfd959a7f",
   "metadata": {},
   "outputs": [],
   "source": [
    "#question 2"
   ]
  },
  {
   "cell_type": "code",
   "execution_count": 2,
   "id": "00857df5-7dcb-465c-ab64-6c213ec30912",
   "metadata": {},
   "outputs": [
    {
     "name": "stdout",
     "output_type": "stream",
     "text": [
      "Sum of the first 10 natural numbers: 55\n",
      "Product of the first 10 natural numbers: 3628800\n"
     ]
    }
   ],
   "source": [
    "sum = 0\n",
    "product = 1\n",
    "for i in range(1, 11):\n",
    "    sum += i\n",
    "    product *= i\n",
    "print(\"Sum of the first 10 natural numbers:\", sum)\n",
    "print(\"Product of the first 10 natural numbers:\", product)"
   ]
  },
  {
   "cell_type": "code",
   "execution_count": 5,
   "id": "6d1bad06-e87d-44bc-8f5c-1673093c319d",
   "metadata": {},
   "outputs": [
    {
     "name": "stdout",
     "output_type": "stream",
     "text": [
      "sum of the first 10 natural number: 55\n",
      "product of the first 10 natural number: 3628800\n"
     ]
    }
   ],
   "source": [
    "sum=0\n",
    "product=1\n",
    "for i in range(1,11):\n",
    "    sum += i\n",
    "    product *= i\n",
    "print('sum of the first 10 natural number:',sum)\n",
    "print('product of the first 10 natural number:', product)\n"
   ]
  },
  {
   "cell_type": "code",
   "execution_count": null,
   "id": "89492053-c33e-4f83-9700-de21ec7d4572",
   "metadata": {},
   "outputs": [],
   "source": [
    "#Q3. Create a python program to compute the electricity bill for a household.\n",
    "\n",
    "The per-unit charges in rupees are as follows: For the first 100 units, the user will be charged Rs. 4.5 per\n",
    "unit, for the next 100 units, the user will be charged Rs. 6 per unit, and for the next 100 units, the user will\n",
    "be charged Rs. 10 per unit, After 300 units and above the user will be charged Rs. 20 per unit."
   ]
  },
  {
   "cell_type": "code",
   "execution_count": 20,
   "id": "41e47215-d2bf-4855-80ca-45b53a570e05",
   "metadata": {},
   "outputs": [
    {
     "name": "stdin",
     "output_type": "stream",
     "text": [
      "Enter the number of units consumed:  310\n"
     ]
    },
    {
     "name": "stdout",
     "output_type": "stream",
     "text": [
      "The total electricity bill is: 2250.0 rupees.\n"
     ]
    }
   ],
   "source": [
    "units = int(input(\"Enter the number of units consumed: \"))\n",
    "\n",
    "if units <= 100:\n",
    "    bill = units * 4.5\n",
    "elif units <= 200:\n",
    "    bill = (100 * 4.5) + ((units - 100) * 6)\n",
    "elif units <= 300:\n",
    "    bill = (100 * 4.5) + (100 * 6) + ((units - 200) * 10)\n",
    "else:\n",
    "    bill = (100 * 4.5) + (100 * 6) + (100 * 10) + ((units - 300) * 20)\n",
    "\n",
    "print(\"The total electricity bill is:\", bill, \"rupees.\")\n",
    "    "
   ]
  },
  {
   "cell_type": "code",
   "execution_count": null,
   "id": "a413a7cc-2b21-44de-98c9-416dfd92254a",
   "metadata": {},
   "outputs": [],
   "source": [
    "Q4. Create a list of numbers from 1 to 100. Use for loop and while loop to calculate the cube of each\n",
    "number and if the cube of that number is divisible by 4 or 5 then append that number in a list and print\n",
    "that list."
   ]
  },
  {
   "cell_type": "code",
   "execution_count": 24,
   "id": "e9dd9c3e-9318-4b0e-a344-97eff291fda9",
   "metadata": {},
   "outputs": [
    {
     "name": "stdout",
     "output_type": "stream",
     "text": [
      "The cubes  are divisible by 4 or 5: [8, 64, 125, 216, 512, 1000, 1728, 2744, 3375, 4096, 5832, 8000, 10648, 13824, 15625, 17576, 21952, 27000, 32768, 39304, 42875, 46656, 54872, 64000, 74088, 85184, 91125, 97336, 110592, 125000, 140608, 157464, 166375, 175616, 195112, 216000, 238328, 262144, 274625, 287496, 314432, 343000, 373248, 405224, 421875, 438976, 474552, 512000, 551368, 592704, 614125, 636056, 681472, 729000, 778688, 830584, 857375, 884736, 941192, 1000000]\n"
     ]
    }
   ],
   "source": [
    "#for loop\n",
    "cubes = []\n",
    "for i in range(1, 101):\n",
    "    cube = i**3\n",
    "    if cube % 4 == 0 or cube % 5 == 0:\n",
    "        cubes.append(cube)\n",
    "print(\"The cubes  are divisible by 4 or 5:\", cubes)"
   ]
  },
  {
   "cell_type": "code",
   "execution_count": null,
   "id": "26558782-196b-4251-a44f-b4c6ff53a73c",
   "metadata": {},
   "outputs": [],
   "source": []
  },
  {
   "cell_type": "code",
   "execution_count": null,
   "id": "4f934b40-7942-4b98-8503-6e8429695845",
   "metadata": {},
   "outputs": [],
   "source": [
    "#for while loop\n",
    "cubes = []\n",
    "i = 1\n",
    "while i <= 100:\n",
    "    cube = i**3\n",
    "    if cube % 4 == 0 or cube % 5 == 0:\n",
    "        cubes.append(cube)\n",
    "    i += 1\n",
    "print(\"The cubes that are divisible by 4 or 5:\", cubes)"
   ]
  },
  {
   "cell_type": "code",
   "execution_count": null,
   "id": "b17075d3-9113-40a0-8528-b702ef51b731",
   "metadata": {},
   "outputs": [],
   "source": [
    "#Q.5\n",
    "string=' I want to become a data scientist'\n",
    "vowles='aeiouAEIOU'\n",
    "count=0\n",
    "for charactor in string:\n",
    "    if charactor in vowles:\n",
    "        count+=1\n",
    "print('number of vowel in string is :',count)\n"
   ]
  },
  {
   "cell_type": "code",
   "execution_count": null,
   "id": "1672c8cc-b570-446e-9a50-046bd876c344",
   "metadata": {},
   "outputs": [],
   "source": []
  }
 ],
 "metadata": {
  "kernelspec": {
   "display_name": "Python 3 (ipykernel)",
   "language": "python",
   "name": "python3"
  },
  "language_info": {
   "codemirror_mode": {
    "name": "ipython",
    "version": 3
   },
   "file_extension": ".py",
   "mimetype": "text/x-python",
   "name": "python",
   "nbconvert_exporter": "python",
   "pygments_lexer": "ipython3",
   "version": "3.10.8"
  }
 },
 "nbformat": 4,
 "nbformat_minor": 5
}
